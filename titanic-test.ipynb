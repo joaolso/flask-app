{
 "cells": [
  {
   "cell_type": "code",
   "execution_count": 12,
   "metadata": {},
   "outputs": [
    {
     "name": "stdout",
     "output_type": "stream",
     "text": [
      "<Response [200]>\n",
      "{'results': {'results': 1}}\n"
     ]
    },
    {
     "name": "stderr",
     "output_type": "stream",
     "text": [
      "C:\\Users\\Joao\\AppData\\Local\\Continuum\\anaconda3\\envs\\rstudio\\lib\\site-packages\\ipykernel_launcher.py:23: SettingWithCopyWarning: \n",
      "A value is trying to be set on a copy of a slice from a DataFrame.\n",
      "Try using .loc[row_indexer,col_indexer] = value instead\n",
      "\n",
      "See the caveats in the documentation: http://pandas.pydata.org/pandas-docs/stable/user_guide/indexing.html#returning-a-view-versus-a-copy\n"
     ]
    }
   ],
   "source": [
    "#! /usr/bin/env python3\n",
    "import pandas as pd\n",
    "import matplotlib.pyplot as plt\n",
    "import seaborn as sns\n",
    "import requests, json\n",
    "\n",
    "from sklearn.ensemble import RandomForestClassifier\n",
    "from sklearn.model_selection import train_test_split\n",
    "from sklearn.preprocessing import StandardScaler\n",
    "from sklearn import preprocessing\n",
    "\n",
    "data = pd.read_csv('titanic.csv', sep=',', low_memory=False)\n",
    "\n",
    "data.dropna(inplace=True)\n",
    "data.reset_index(drop=True, inplace=True)\n",
    "\n",
    "features = data[['PassengerId','Pclass','Sex','Age','Embarked']]\n",
    "target = data['Survived']\n",
    "\n",
    "encoder = preprocessing.LabelEncoder()\n",
    "for column in features:\n",
    "    if features[column].dtype == object:\n",
    "        features[column] = encoder.fit_transform(features[column])\n",
    "        \n",
    "X_train, X_test, y_train, y_test = train_test_split(features, target, test_size=0.3, random_state=0)\n",
    "\n",
    "model = RandomForestClassifier(n_estimators=10, random_state=0)  \n",
    "model.fit(X_train, y_train)  \n",
    "prob = model.predict(X_test)\n",
    "model.score(X_test, y_test)\n",
    "\n",
    "import pickle \n",
    "pickle.dump (model, open('modelRF.pkl', 'wb'))\n",
    "\n",
    "# local url \n",
    "url = 'http://127.0.0.1:5000'\n",
    "\n",
    "# sample data \n",
    "data = {'PassengerId':67,'Pclass':1,'Sex':1,'Age':10,'Embarked':3} \n",
    "data = json.dumps (data)\n",
    "\n",
    "send_request = requests.post(url, data)\n",
    "print (send_request)\n",
    "print (send_request.json())"
   ]
  },
  {
   "cell_type": "code",
   "execution_count": null,
   "metadata": {},
   "outputs": [],
   "source": []
  }
 ],
 "metadata": {
  "file_extension": ".py",
  "kernelspec": {
   "display_name": "Python 3",
   "language": "python",
   "name": "python3"
  },
  "language_info": {
   "codemirror_mode": {
    "name": "ipython",
    "version": 3
   },
   "file_extension": ".py",
   "mimetype": "text/x-python",
   "name": "python",
   "nbconvert_exporter": "python",
   "pygments_lexer": "ipython3",
   "version": "3.6.9"
  },
  "mimetype": "text/x-python",
  "name": "python",
  "npconvert_exporter": "python",
  "pygments_lexer": "ipython3",
  "version": 3
 },
 "nbformat": 4,
 "nbformat_minor": 2
}
